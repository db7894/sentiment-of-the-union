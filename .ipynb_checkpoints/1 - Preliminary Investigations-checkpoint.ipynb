{
 "cells": [
  {
   "cell_type": "code",
   "execution_count": 1,
   "metadata": {},
   "outputs": [],
   "source": [
    "import pandas as pd\n",
    "import os\n",
    "from collections import Counter\n",
    "import nltk\n",
    "import string\n",
    "import matplotlib.pyplot as plt\n",
    "import numpy as np\n",
    "from wordcloud import WordCloud, STOPWORDS\n",
    "from scipy import misc"
   ]
  },
  {
   "cell_type": "code",
   "execution_count": 3,
   "metadata": {
    "collapsed": true
   },
   "outputs": [],
   "source": [
    "path = 'state-of-the-union-corpus-1989-2017'\n",
    "dirs = os.listdir(path)"
   ]
  },
  {
   "cell_type": "code",
   "execution_count": 4,
   "metadata": {},
   "outputs": [
    {
     "data": {
      "text/plain": [
       "['Adams_1797.txt',\n",
       " 'Adams_1798.txt',\n",
       " 'Adams_1799.txt',\n",
       " 'Adams_1800.txt',\n",
       " 'Adams_1825.txt',\n",
       " 'Adams_1826.txt',\n",
       " 'Adams_1827.txt',\n",
       " 'Adams_1828.txt',\n",
       " 'Arthur_1881.txt',\n",
       " 'Arthur_1882.txt',\n",
       " 'Arthur_1883.txt',\n",
       " 'Arthur_1884.txt',\n",
       " 'Buchanan_1857.txt',\n",
       " 'Buchanan_1858.txt',\n",
       " 'Buchanan_1859.txt',\n",
       " 'Buchanan_1860.txt',\n",
       " 'Buren_1837.txt',\n",
       " 'Buren_1838.txt',\n",
       " 'Buren_1839.txt',\n",
       " 'Buren_1840.txt',\n",
       " 'Bush_1989.txt',\n",
       " 'Bush_1990.txt',\n",
       " 'Bush_1991.txt',\n",
       " 'Bush_1992.txt',\n",
       " 'Bush_2001.txt',\n",
       " 'Bush_2002.txt',\n",
       " 'Bush_2003.txt',\n",
       " 'Bush_2004.txt',\n",
       " 'Bush_2005.txt',\n",
       " 'Bush_2006.txt',\n",
       " 'Bush_2007.txt',\n",
       " 'Bush_2008.txt',\n",
       " 'Carter_1978.txt',\n",
       " 'Carter_1979.txt',\n",
       " 'Carter_1980.txt',\n",
       " 'Carter_1981.txt',\n",
       " 'Cleveland_1885.txt',\n",
       " 'Cleveland_1886.txt',\n",
       " 'Cleveland_1887.txt',\n",
       " 'Cleveland_1888.txt',\n",
       " 'Cleveland_1893.txt',\n",
       " 'Cleveland_1894.txt',\n",
       " 'Cleveland_1895.txt',\n",
       " 'Cleveland_1896.txt',\n",
       " 'Clinton_1993.txt',\n",
       " 'Clinton_1994.txt',\n",
       " 'Clinton_1995.txt',\n",
       " 'Clinton_1996.txt',\n",
       " 'Clinton_1997.txt',\n",
       " 'Clinton_1998.txt',\n",
       " 'Clinton_1999.txt',\n",
       " 'Clinton_2000.txt',\n",
       " 'Coolidge_1923.txt',\n",
       " 'Coolidge_1924.txt',\n",
       " 'Coolidge_1925.txt',\n",
       " 'Coolidge_1926.txt',\n",
       " 'Coolidge_1927.txt',\n",
       " 'Coolidge_1928.txt',\n",
       " 'Eisenhower_1954.txt',\n",
       " 'Eisenhower_1955.txt',\n",
       " 'Eisenhower_1956.txt',\n",
       " 'Eisenhower_1957.txt',\n",
       " 'Eisenhower_1958.txt',\n",
       " 'Eisenhower_1959.txt',\n",
       " 'Eisenhower_1960.txt',\n",
       " 'Eisenhower_1961.txt',\n",
       " 'Fillmore_1850.txt',\n",
       " 'Fillmore_1851.txt',\n",
       " 'Fillmore_1852.txt',\n",
       " 'Ford_1975.txt',\n",
       " 'Ford_1976.txt',\n",
       " 'Ford_1977.txt',\n",
       " 'Grant_1869.txt',\n",
       " 'Grant_1870.txt',\n",
       " 'Grant_1871.txt',\n",
       " 'Grant_1872.txt',\n",
       " 'Grant_1873.txt',\n",
       " 'Grant_1874.txt',\n",
       " 'Grant_1875.txt',\n",
       " 'Grant_1876.txt',\n",
       " 'Harding_1921.txt',\n",
       " 'Harding_1922.txt',\n",
       " 'Harrison_1889.txt',\n",
       " 'Harrison_1890.txt',\n",
       " 'Harrison_1891.txt',\n",
       " 'Harrison_1892.txt',\n",
       " 'Hayes_1877.txt',\n",
       " 'Hayes_1878.txt',\n",
       " 'Hayes_1879.txt',\n",
       " 'Hayes_1880.txt',\n",
       " 'Hoover_1929.txt',\n",
       " 'Hoover_1930.txt',\n",
       " 'Hoover_1931.txt',\n",
       " 'Hoover_1932.txt',\n",
       " 'Jackson_1829.txt',\n",
       " 'Jackson_1830.txt',\n",
       " 'Jackson_1831.txt',\n",
       " 'Jackson_1832.txt',\n",
       " 'Jackson_1833.txt',\n",
       " 'Jackson_1834.txt',\n",
       " 'Jackson_1835.txt',\n",
       " 'Jackson_1836.txt',\n",
       " 'Jefferson_1801.txt',\n",
       " 'Jefferson_1802.txt',\n",
       " 'Jefferson_1803.txt',\n",
       " 'Jefferson_1804.txt',\n",
       " 'Jefferson_1805.txt',\n",
       " 'Jefferson_1806.txt',\n",
       " 'Jefferson_1807.txt',\n",
       " 'Jefferson_1808.txt',\n",
       " 'Johnson_1865.txt',\n",
       " 'Johnson_1866.txt',\n",
       " 'Johnson_1867.txt',\n",
       " 'Johnson_1868.txt',\n",
       " 'Johnson_1964.txt',\n",
       " 'Johnson_1965.txt',\n",
       " 'Johnson_1966.txt',\n",
       " 'Johnson_1967.txt',\n",
       " 'Johnson_1968.txt',\n",
       " 'Johnson_1969.txt',\n",
       " 'Kennedy_1962.txt',\n",
       " 'Kennedy_1963.txt',\n",
       " 'Lincoln_1861.txt',\n",
       " 'Lincoln_1862.txt',\n",
       " 'Lincoln_1863.txt',\n",
       " 'Lincoln_1864.txt',\n",
       " 'Madison_1809.txt',\n",
       " 'Madison_1810.txt',\n",
       " 'Madison_1811.txt',\n",
       " 'Madison_1812.txt',\n",
       " 'Madison_1813.txt',\n",
       " 'Madison_1814.txt',\n",
       " 'Madison_1815.txt',\n",
       " 'Madison_1816.txt',\n",
       " 'McKinley_1897.txt',\n",
       " 'McKinley_1898.txt',\n",
       " 'McKinley_1899.txt',\n",
       " 'McKinley_1900.txt',\n",
       " 'Monroe_1817.txt',\n",
       " 'Monroe_1818.txt',\n",
       " 'Monroe_1819.txt',\n",
       " 'Monroe_1820.txt',\n",
       " 'Monroe_1821.txt',\n",
       " 'Monroe_1822.txt',\n",
       " 'Monroe_1823.txt',\n",
       " 'Monroe_1824.txt',\n",
       " 'Nixon_1970.txt',\n",
       " 'Nixon_1971.txt',\n",
       " 'Nixon_1972.txt',\n",
       " 'Nixon_1973.txt',\n",
       " 'Nixon_1974.txt',\n",
       " 'Obama_2009.txt',\n",
       " 'Obama_2010.txt',\n",
       " 'Obama_2011.txt',\n",
       " 'Obama_2012.txt',\n",
       " 'Obama_2013.txt',\n",
       " 'Obama_2014.txt',\n",
       " 'Obama_2015.txt',\n",
       " 'Obama_2016.txt',\n",
       " 'Pierce_1853.txt',\n",
       " 'Pierce_1854.txt',\n",
       " 'Pierce_1855.txt',\n",
       " 'Pierce_1856.txt',\n",
       " 'Polk_1845.txt',\n",
       " 'Polk_1846.txt',\n",
       " 'Polk_1847.txt',\n",
       " 'Polk_1848.txt',\n",
       " 'Reagan_1982.txt',\n",
       " 'Reagan_1983.txt',\n",
       " 'Reagan_1984.txt',\n",
       " 'Reagan_1985.txt',\n",
       " 'Reagan_1986.txt',\n",
       " 'Reagan_1987.txt',\n",
       " 'Reagan_1988.txt',\n",
       " 'Roosevelt_1901.txt',\n",
       " 'Roosevelt_1902.txt',\n",
       " 'Roosevelt_1903.txt',\n",
       " 'Roosevelt_1904.txt',\n",
       " 'Roosevelt_1905.txt',\n",
       " 'Roosevelt_1906.txt',\n",
       " 'Roosevelt_1907.txt',\n",
       " 'Roosevelt_1908.txt',\n",
       " 'Roosevelt_1934.txt',\n",
       " 'Roosevelt_1935.txt',\n",
       " 'Roosevelt_1936.txt',\n",
       " 'Roosevelt_1937.txt',\n",
       " 'Roosevelt_1938.txt',\n",
       " 'Roosevelt_1939.txt',\n",
       " 'Roosevelt_1940.txt',\n",
       " 'Roosevelt_1941.txt',\n",
       " 'Roosevelt_1942.txt',\n",
       " 'Roosevelt_1943.txt',\n",
       " 'Roosevelt_1944.txt',\n",
       " 'Roosevelt_1945.txt',\n",
       " 'Taft_1909.txt',\n",
       " 'Taft_1910.txt',\n",
       " 'Taft_1911.txt',\n",
       " 'Taft_1912.txt',\n",
       " 'Taylor_1849.txt',\n",
       " 'Truman_1946.txt',\n",
       " 'Truman_1947.txt',\n",
       " 'Truman_1948.txt',\n",
       " 'Truman_1949.txt',\n",
       " 'Truman_1950.txt',\n",
       " 'Truman_1951.txt',\n",
       " 'Truman_1952.txt',\n",
       " 'Truman_1953.txt',\n",
       " 'Trump_2017.txt',\n",
       " 'Trump_2018.txt',\n",
       " 'Tyler_1841.txt',\n",
       " 'Tyler_1842.txt',\n",
       " 'Tyler_1843.txt',\n",
       " 'Tyler_1844.txt',\n",
       " 'Washington_1790.txt',\n",
       " 'Washington_1791.txt',\n",
       " 'Washington_1792.txt',\n",
       " 'Washington_1793.txt',\n",
       " 'Washington_1794.txt',\n",
       " 'Washington_1795.txt',\n",
       " 'Washington_1796.txt',\n",
       " 'Wilson_1913.txt',\n",
       " 'Wilson_1914.txt',\n",
       " 'Wilson_1915.txt',\n",
       " 'Wilson_1916.txt',\n",
       " 'Wilson_1917.txt',\n",
       " 'Wilson_1918.txt',\n",
       " 'Wilson_1919.txt',\n",
       " 'Wilson_1920.txt']"
      ]
     },
     "execution_count": 4,
     "metadata": {},
     "output_type": "execute_result"
    }
   ],
   "source": [
    "dirs"
   ]
  },
  {
   "cell_type": "markdown",
   "metadata": {},
   "source": [
    "First we'll attempt to examime the sentiment of a single SOTU address. Let's look at Adams_1797.txt"
   ]
  },
  {
   "cell_type": "code",
   "execution_count": 6,
   "metadata": {},
   "outputs": [],
   "source": [
    "filename = os.path.join(path, dirs[0])\n",
    "text_file = open(filename, 'r')"
   ]
  },
  {
   "cell_type": "code",
   "execution_count": 7,
   "metadata": {
    "collapsed": true
   },
   "outputs": [],
   "source": [
    "lines = text_file.read()"
   ]
  },
  {
   "cell_type": "code",
   "execution_count": 8,
   "metadata": {},
   "outputs": [
    {
     "data": {
      "text/plain": [
       "'Gentlemen of the Senate and Gentlemen of the House of Representatives:\\n\\nI was for some time apprehensive that it would be necessary, on account of\\nthe contagious sickness which afflicted the city of Philadelphia, to\\nconvene the National Legislature at some other place. This measure it was\\ndesirable to avoid, because it would occasion much public inconvenience and\\na considerable public expense and add to the calamities of the inhabitants\\nof this city, whose sufferings must have excited the sympathy of all their\\nfellow citizens. Therefore, after taking measures to ascertain the state\\nand decline of the sickness, I postponed my determination, having hopes,\\nnow happily realized, that, without hazard to the lives or health of the\\nmembers, Congress might assemble at this place, where it was next by law to\\nmeet. I submit, however, to your consideration whether a power to postpone\\nthe meeting of Congress, without passing the time fixed by the Constitution\\nupon such occasions, would not be a useful amendment to the law of 1794.\\n\\nAlthough I can not yet congratulate you on the reestablishment of peace in\\nEurope and the restoration of security to the persons and properties of our\\ncitizens from injustice and violence at sea, we have, nevertheless,\\nabundant cause of gratitude to the source of benevolence and influence for\\ninterior tranquillity and personal security, for propitious seasons,\\nprosperous agriculture, productive fisheries, and general improvements,\\nand, above all, for a rational spirit of civil and religious liberty and a\\ncalm but steady determination to support our sovereignty, as well as our\\nmoral and our religious principles, against all open and secret attacks.\\n\\nOur envoys extraordinary to the French Republic embarked--one in July, the\\nother in August--to join their colleague in Holland. I have received\\nintelligence of the arrival of both of them in Holland, from whence they\\nall proceeded on their journeys to Paris within a few days of the 19th of\\nSeptember. Whatever may be the result of this mission, I trust that nothing\\nwill have been omitted on my part to conduct the negotiation to a\\nsuccessful conclusion, on such equitable terms as may be compatible with\\nthe safety, honor and interest of the United States. Nothing, in the mean\\ntime, will contribute so much to the preservation of peace and the\\nattainment of justice as manifestation of that energy and unanimity of\\nwhich on many former occasions the people of the United States have given\\nsuch memorable proofs, and the exertion of those resources for national\\ndefense which a beneficent Providence has kindly placed within their\\npower.\\n\\nIt may be confidently asserted that nothing has occurred since the\\nadjournment of Congress which renders inexpedient those precautionary\\nmeasures recommended by me to the consideration of the two Houses at the\\nopening of your late extraordinary session. If that system was then\\nprudent, it is more so now, as increasing depredations strengthen the\\nreasons for its adoption.\\n\\nIndeed, whatever may be the issue of the negotiation with France, and\\nwhether the war in Europe is or is not to continue, I hold it most certain\\nthat permanent tranquillity and order will not soon be obtained. The state\\nof society has so long been disturbed, the sense of moral and religious\\nobligations so much weakened, public faith and national honor have been so\\nimpaired, respect to treaties has been so diminished, and the law of\\nnations has lost so much of its force, while pride, ambition, avarice and\\nviolence have been so long unrestrained, there remains no reasonable ground\\non which to raise an expectation that a commerce without protection or\\ndefense will not be plundered.\\n\\nThe commerce of the United States is essential, if not to their existence,\\nat least to their comfort, their growth, prosperity, and happiness. The\\ngenius, character, and habits of the people are highly commercial. Their\\ncities have been formed and exist upon commerce. Our agriculture,\\nfisheries, arts, and manufactures are connected with and depend upon it. In\\nshort, commerce has made this country what it is, and it can not be\\ndestroyed or neglected without involving the people in poverty and\\ndistress. Great numbers are directly and solely supported by navigation.\\nThe faith of society is pledged for the preservation of the rights of\\ncommercial and sea faring no less than of the other citizens. Under this\\nview of our affairs, I should hold myself guilty of a neglect of duty if I\\nforbore to recommend that we should make every exertion to protect our\\ncommerce and to place our country in a suitable posture of defense as the\\nonly sure means of preserving both.\\n\\nI have entertained an expectation that it would have been in my power at\\nthe opening of this session to have communicated to you the agreeable\\ninformation of the due execution of our treaty with His Catholic Majesty\\nrespecting the withdrawing of his troops from our territory and the\\ndemarcation of the line of limits, but by the latest authentic intelligence\\nSpanish garrisons were still continued within our country, and the running\\nof the boundary line had not been commenced. These circumstances are the\\nmore to be regretted as they can not fail to affect the Indians in a manner\\ninjurious to the United States. Still, however, indulging the hope that the\\nanswers which have been given will remove the objections offered by the\\nSpanish officers to the immediate execution of the treaty, I have judged it\\nproper that we should continue in readiness to receive the posts and to run\\nthe line of limits. Further information on this subject will be\\ncommunicated in the course of the session.\\n\\nIn connection with this unpleasant state of things on our western frontier\\nit is proper for me to mention the attempts of foreign agents to alienate\\nthe affections of the Indian nations and to excite them to actual\\nhostilities against the United States. Great activity has been exerted by\\nthose persons who have insinuated themselves among the Indian tribes\\nresiding within the territory of the United States to influence them to\\ntransfer their affections and force to a foreign nation, to form them into\\na confederacy, and prepare them for war against the United States. Although\\nmeasures have been taken to counteract these infractions of our rights, to\\nprevent Indian hostilities, and to preserve entire their attachment to the\\nUnited States, it is my duty to observe that to give a better effect to\\nthese measures and to obviate the consequences of a repetition of such\\npractices a law providing adequate punishment for such offenses may be\\nnecessary.\\n\\nThe commissioners appointed under the 5th article of the treaty of amity,\\ncommerce, and navigation between the United States and Great Britain to\\nascertain the river which was truly intended under the name of the river\\nSt. Croix mentioned in the treaty of peace, met at Passamaquoddy Bay in\\n1796 October, and viewed the mouths of the rivers in question and the\\nadjacent shores and islands, and, being of opinion that actual surveys of\\nboth rivers to their sources were necessary, gave to the agents of the two\\nnations instructions for that purpose, and adjourned to meet at Boston in\\nAugust. They met, but the surveys requiring more time than had been\\nsupposed, and not being then completed, the commissioners again adjourned,\\nto meet at Providence, in the State of Rhode Island, in June next, when we\\nmay expect a final examination and decision.\\n\\nThe commissioners appointed in pursuance of the 6th article of the treaty\\nmet at Philadelphia in May last to examine the claims of British subjects\\nfor debts contracted before the peace and still remaining due to them from\\ncitizens or inhabitants of the United States. Various causes have hitherto\\nprevented any determinations, but the business is now resumed, and\\ndoubtless will be prosecuted without interruption.\\n\\nSeveral decisions on the claims of citizens of the United States for losses\\nand damages sustained by reason of irregular and illegal captures or\\ncondemnations of their vessels or other property have been made by the\\ncommissioners in London conformably to the 7th article of the treaty. The\\nsums awarded by the commissioners have been paid by the British Government.\\nA considerable number of other claims, where costs and damages, and not\\ncaptured property, were the only objects in question, have been decided by\\narbitration, and the sums awarded to the citizens of the United States have\\nalso been paid.\\n\\nThe commissioners appointed agreeably to the 21st article of our treaty\\nwith Spain met at Philadelphia in the summer past to examine and decide on\\nthe claims of our citizens for losses they have sustained in consequence of\\ntheir vessels and cargoes having been taken by the subjects of His Catholic\\nMajesty during the late war between Spain and France. Their sittings have\\nbeen interrupted, but are now resumed.\\n\\nThe United States being obligated to make compensation for the losses and\\ndamages sustained by British subjects, upon the award of the commissioners\\nacting under the 6th article of the treaty with Great Britain, and for the\\nlosses and damages sustained by British subjects by reason of the capture\\nof their vessels and merchandise taken within the limits and jurisdiction\\nof the United States and brought into their ports, or taken by vessels\\noriginally armed in ports of the United States, upon the awards of the\\ncommissioners acting under the 7th article of the same treaty, it is\\nnecessary that provision be made for fulfilling these obligations.\\n\\nThe numerous captures of American vessels by the cruisers of the French\\nRepublic and of some by those of Spain have occasioned considerable\\nexpenses in making and supporting the claims of our citizens before their\\ntribunals. The sums required for this purpose have in divers instances been\\ndisbursed by the consuls of the United States. By means of the same\\ncaptures great numbers of our sea men have been thrown ashore in foreign\\ncountries, destitute of all means of subsistence, and the sick in\\nparticular have been exposed to grievous sufferings. The consuls have in\\nthese cases also advanced moneys for their relief. For these advances they\\nreasonably expect reimbursements from the United States.\\n\\nThe consular act relative to sea men requires revision and amendment. The\\nprovisions for their support in foreign countries and for their return are\\nfound to be inadequate and ineffectual. Another provision seems necessary\\nto be added to the consular act. Some foreign vessels have been discovered\\nsailing under the flag of the United States and with forged papers. It\\nseldom happens that the consuls can detect this deception, because they\\nhave no authority to demand an inspection of the registers and sea\\nletters.\\n\\nGentlemen of the House of Representatives:\\n\\nIt is my duty to recommend to your serious consideration those objects\\nwhich by the Constitution are placed particularly within your sphere--the\\nnational debts and taxes.\\n\\nSince the decay of the feudal system, by which the public defense was\\nprovided for chiefly at the expense of individuals, the system of loans has\\nbeen introduced, and as no nation can raise within the year by taxes\\nsufficient sums for its defense and military operations in time of war the\\nsums loaned and debts contracted have necessarily become the subjects of\\nwhat have been called funding systems. The consequences arising from the\\ncontinual accumulation of public debts in other countries ought to admonish\\nus to be careful to prevent their growth in our own. The national defense\\nmust be provided for as well as the support of Government; but both should\\nbe accomplished as much as possible by immediate taxes, and as little as\\npossible by loans.\\n\\nThe estimates for the service of the ensuing year will by my direction be\\nlaid before you.\\n\\nGentlemen of the Senate and Gentlemen of the House of Representatives:\\n\\nWe are met together at a most interesting period. The situations of the\\nprincipal powers of Europe are singular and portentous. Connected with some\\nby treaties and with all by commerce, no important event there can be\\nindifferent to us. Such circumstances call with peculiar importunity not\\nless for a disposition to unite in all those measures on which the honor,\\nsafety, and prosperity of our country depend than for all the exertions of\\nwisdom and firmness.\\n\\nIn all such measures you may rely on my zealous and hearty concurrence.'"
      ]
     },
     "execution_count": 8,
     "metadata": {},
     "output_type": "execute_result"
    }
   ],
   "source": [
    "lines"
   ]
  },
  {
   "cell_type": "markdown",
   "metadata": {},
   "source": [
    "Now we just need to clean out newline chars."
   ]
  },
  {
   "cell_type": "code",
   "execution_count": 9,
   "metadata": {},
   "outputs": [
    {
     "data": {
      "text/plain": [
       "'Gentlemen of the Senate and Gentlemen of the House of Representatives:  I was for some time apprehensive that it would be necessary, on account of the contagious sickness which afflicted the city of Philadelphia, to convene the National Legislature at some other place. This measure it was desirable to avoid, because it would occasion much public inconvenience and a considerable public expense and add to the calamities of the inhabitants of this city, whose sufferings must have excited the sympathy of all their fellow citizens. Therefore, after taking measures to ascertain the state and decline of the sickness, I postponed my determination, having hopes, now happily realized, that, without hazard to the lives or health of the members, Congress might assemble at this place, where it was next by law to meet. I submit, however, to your consideration whether a power to postpone the meeting of Congress, without passing the time fixed by the Constitution upon such occasions, would not be a useful amendment to the law of 1794.  Although I can not yet congratulate you on the reestablishment of peace in Europe and the restoration of security to the persons and properties of our citizens from injustice and violence at sea, we have, nevertheless, abundant cause of gratitude to the source of benevolence and influence for interior tranquillity and personal security, for propitious seasons, prosperous agriculture, productive fisheries, and general improvements, and, above all, for a rational spirit of civil and religious liberty and a calm but steady determination to support our sovereignty, as well as our moral and our religious principles, against all open and secret attacks.  Our envoys extraordinary to the French Republic embarked--one in July, the other in August--to join their colleague in Holland. I have received intelligence of the arrival of both of them in Holland, from whence they all proceeded on their journeys to Paris within a few days of the 19th of September. Whatever may be the result of this mission, I trust that nothing will have been omitted on my part to conduct the negotiation to a successful conclusion, on such equitable terms as may be compatible with the safety, honor and interest of the United States. Nothing, in the mean time, will contribute so much to the preservation of peace and the attainment of justice as manifestation of that energy and unanimity of which on many former occasions the people of the United States have given such memorable proofs, and the exertion of those resources for national defense which a beneficent Providence has kindly placed within their power.  It may be confidently asserted that nothing has occurred since the adjournment of Congress which renders inexpedient those precautionary measures recommended by me to the consideration of the two Houses at the opening of your late extraordinary session. If that system was then prudent, it is more so now, as increasing depredations strengthen the reasons for its adoption.  Indeed, whatever may be the issue of the negotiation with France, and whether the war in Europe is or is not to continue, I hold it most certain that permanent tranquillity and order will not soon be obtained. The state of society has so long been disturbed, the sense of moral and religious obligations so much weakened, public faith and national honor have been so impaired, respect to treaties has been so diminished, and the law of nations has lost so much of its force, while pride, ambition, avarice and violence have been so long unrestrained, there remains no reasonable ground on which to raise an expectation that a commerce without protection or defense will not be plundered.  The commerce of the United States is essential, if not to their existence, at least to their comfort, their growth, prosperity, and happiness. The genius, character, and habits of the people are highly commercial. Their cities have been formed and exist upon commerce. Our agriculture, fisheries, arts, and manufactures are connected with and depend upon it. In short, commerce has made this country what it is, and it can not be destroyed or neglected without involving the people in poverty and distress. Great numbers are directly and solely supported by navigation. The faith of society is pledged for the preservation of the rights of commercial and sea faring no less than of the other citizens. Under this view of our affairs, I should hold myself guilty of a neglect of duty if I forbore to recommend that we should make every exertion to protect our commerce and to place our country in a suitable posture of defense as the only sure means of preserving both.  I have entertained an expectation that it would have been in my power at the opening of this session to have communicated to you the agreeable information of the due execution of our treaty with His Catholic Majesty respecting the withdrawing of his troops from our territory and the demarcation of the line of limits, but by the latest authentic intelligence Spanish garrisons were still continued within our country, and the running of the boundary line had not been commenced. These circumstances are the more to be regretted as they can not fail to affect the Indians in a manner injurious to the United States. Still, however, indulging the hope that the answers which have been given will remove the objections offered by the Spanish officers to the immediate execution of the treaty, I have judged it proper that we should continue in readiness to receive the posts and to run the line of limits. Further information on this subject will be communicated in the course of the session.  In connection with this unpleasant state of things on our western frontier it is proper for me to mention the attempts of foreign agents to alienate the affections of the Indian nations and to excite them to actual hostilities against the United States. Great activity has been exerted by those persons who have insinuated themselves among the Indian tribes residing within the territory of the United States to influence them to transfer their affections and force to a foreign nation, to form them into a confederacy, and prepare them for war against the United States. Although measures have been taken to counteract these infractions of our rights, to prevent Indian hostilities, and to preserve entire their attachment to the United States, it is my duty to observe that to give a better effect to these measures and to obviate the consequences of a repetition of such practices a law providing adequate punishment for such offenses may be necessary.  The commissioners appointed under the 5th article of the treaty of amity, commerce, and navigation between the United States and Great Britain to ascertain the river which was truly intended under the name of the river St. Croix mentioned in the treaty of peace, met at Passamaquoddy Bay in 1796 October, and viewed the mouths of the rivers in question and the adjacent shores and islands, and, being of opinion that actual surveys of both rivers to their sources were necessary, gave to the agents of the two nations instructions for that purpose, and adjourned to meet at Boston in August. They met, but the surveys requiring more time than had been supposed, and not being then completed, the commissioners again adjourned, to meet at Providence, in the State of Rhode Island, in June next, when we may expect a final examination and decision.  The commissioners appointed in pursuance of the 6th article of the treaty met at Philadelphia in May last to examine the claims of British subjects for debts contracted before the peace and still remaining due to them from citizens or inhabitants of the United States. Various causes have hitherto prevented any determinations, but the business is now resumed, and doubtless will be prosecuted without interruption.  Several decisions on the claims of citizens of the United States for losses and damages sustained by reason of irregular and illegal captures or condemnations of their vessels or other property have been made by the commissioners in London conformably to the 7th article of the treaty. The sums awarded by the commissioners have been paid by the British Government. A considerable number of other claims, where costs and damages, and not captured property, were the only objects in question, have been decided by arbitration, and the sums awarded to the citizens of the United States have also been paid.  The commissioners appointed agreeably to the 21st article of our treaty with Spain met at Philadelphia in the summer past to examine and decide on the claims of our citizens for losses they have sustained in consequence of their vessels and cargoes having been taken by the subjects of His Catholic Majesty during the late war between Spain and France. Their sittings have been interrupted, but are now resumed.  The United States being obligated to make compensation for the losses and damages sustained by British subjects, upon the award of the commissioners acting under the 6th article of the treaty with Great Britain, and for the losses and damages sustained by British subjects by reason of the capture of their vessels and merchandise taken within the limits and jurisdiction of the United States and brought into their ports, or taken by vessels originally armed in ports of the United States, upon the awards of the commissioners acting under the 7th article of the same treaty, it is necessary that provision be made for fulfilling these obligations.  The numerous captures of American vessels by the cruisers of the French Republic and of some by those of Spain have occasioned considerable expenses in making and supporting the claims of our citizens before their tribunals. The sums required for this purpose have in divers instances been disbursed by the consuls of the United States. By means of the same captures great numbers of our sea men have been thrown ashore in foreign countries, destitute of all means of subsistence, and the sick in particular have been exposed to grievous sufferings. The consuls have in these cases also advanced moneys for their relief. For these advances they reasonably expect reimbursements from the United States.  The consular act relative to sea men requires revision and amendment. The provisions for their support in foreign countries and for their return are found to be inadequate and ineffectual. Another provision seems necessary to be added to the consular act. Some foreign vessels have been discovered sailing under the flag of the United States and with forged papers. It seldom happens that the consuls can detect this deception, because they have no authority to demand an inspection of the registers and sea letters.  Gentlemen of the House of Representatives:  It is my duty to recommend to your serious consideration those objects which by the Constitution are placed particularly within your sphere--the national debts and taxes.  Since the decay of the feudal system, by which the public defense was provided for chiefly at the expense of individuals, the system of loans has been introduced, and as no nation can raise within the year by taxes sufficient sums for its defense and military operations in time of war the sums loaned and debts contracted have necessarily become the subjects of what have been called funding systems. The consequences arising from the continual accumulation of public debts in other countries ought to admonish us to be careful to prevent their growth in our own. The national defense must be provided for as well as the support of Government; but both should be accomplished as much as possible by immediate taxes, and as little as possible by loans.  The estimates for the service of the ensuing year will by my direction be laid before you.  Gentlemen of the Senate and Gentlemen of the House of Representatives:  We are met together at a most interesting period. The situations of the principal powers of Europe are singular and portentous. Connected with some by treaties and with all by commerce, no important event there can be indifferent to us. Such circumstances call with peculiar importunity not less for a disposition to unite in all those measures on which the honor, safety, and prosperity of our country depend than for all the exertions of wisdom and firmness.  In all such measures you may rely on my zealous and hearty concurrence.'"
      ]
     },
     "execution_count": 9,
     "metadata": {},
     "output_type": "execute_result"
    }
   ],
   "source": [
    "lines.replace('\\n', ' ')"
   ]
  },
  {
   "cell_type": "code",
   "execution_count": 12,
   "metadata": {},
   "outputs": [],
   "source": [
    "tokens = nltk.word_tokenize(lines)"
   ]
  },
  {
   "cell_type": "code",
   "execution_count": 13,
   "metadata": {},
   "outputs": [
    {
     "data": {
      "text/plain": [
       "2235"
      ]
     },
     "execution_count": 13,
     "metadata": {},
     "output_type": "execute_result"
    }
   ],
   "source": [
    "len(tokens)"
   ]
  },
  {
   "cell_type": "code",
   "execution_count": 14,
   "metadata": {},
   "outputs": [
    {
     "data": {
      "text/plain": [
       "['Gentlemen',\n",
       " 'of',\n",
       " 'the',\n",
       " 'Senate',\n",
       " 'and',\n",
       " 'Gentlemen',\n",
       " 'of',\n",
       " 'the',\n",
       " 'House',\n",
       " 'of']"
      ]
     },
     "execution_count": 14,
     "metadata": {},
     "output_type": "execute_result"
    }
   ],
   "source": [
    "tokens[:10]"
   ]
  },
  {
   "cell_type": "markdown",
   "metadata": {},
   "source": [
    "Let's try out a few tools."
   ]
  },
  {
   "cell_type": "code",
   "execution_count": 16,
   "metadata": {
    "collapsed": true
   },
   "outputs": [],
   "source": [
    "from nltk.classify import NaiveBayesClassifier\n",
    "from nltk.corpus import subjectivity\n",
    "from nltk.sentiment import SentimentAnalyzer\n",
    "from nltk.sentiment.util import *\n",
    "from nltk import tokenize\n",
    "from nltk.sentiment.vader import SentimentIntensityAnalyzer"
   ]
  },
  {
   "cell_type": "code",
   "execution_count": 17,
   "metadata": {
    "collapsed": true
   },
   "outputs": [],
   "source": [
    "token_list = tokenize.sent_tokenize(lines)"
   ]
  },
  {
   "cell_type": "code",
   "execution_count": null,
   "metadata": {
    "collapsed": true
   },
   "outputs": [],
   "source": []
  }
 ],
 "metadata": {
  "kernelspec": {
   "display_name": "Python (py36)",
   "language": "python",
   "name": "py36"
  },
  "language_info": {
   "codemirror_mode": {
    "name": "ipython",
    "version": 3
   },
   "file_extension": ".py",
   "mimetype": "text/x-python",
   "name": "python",
   "nbconvert_exporter": "python",
   "pygments_lexer": "ipython3",
   "version": "3.6.7"
  }
 },
 "nbformat": 4,
 "nbformat_minor": 2
}
